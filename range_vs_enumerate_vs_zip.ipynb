{
  "nbformat": 4,
  "nbformat_minor": 0,
  "metadata": {
    "colab": {
      "provenance": []
    },
    "kernelspec": {
      "name": "python3",
      "display_name": "Python 3"
    },
    "language_info": {
      "name": "python"
    }
  },
  "cells": [
    {
      "cell_type": "markdown",
      "source": [
        "## Python range vs enumerate vs zip\n",
        "\n",
        "1. Python functions range(), enumerate() seems to be similar in the beginning but they serve a different purposes\n",
        "\n",
        "2. Where as the zip() function returns a zip object, which is an iterator of tuples. For example, we can use it to create a list of tuples by zipping in two or more separate lists together\n"
      ],
      "metadata": {
        "id": "IcxFD6BuVD3D"
      }
    },
    {
      "cell_type": "markdown",
      "source": [
        "### range()\n",
        "Generates a sequence of numbers within a specified range.\n",
        "\n",
        "Useful when you need to iterate a fixed number of times or access specific indices.\n",
        "\n",
        "Returns an iterable object."
      ],
      "metadata": {
        "id": "2LFNq_fMXPmp"
      }
    },
    {
      "cell_type": "code",
      "source": [
        "for i in range(5):\n",
        "    print(i)  # prints 0, 1, 2, 3, 4"
      ],
      "metadata": {
        "colab": {
          "base_uri": "https://localhost:8080/"
        },
        "id": "2R3ppXCBV5Aq",
        "outputId": "985469cc-fb76-43de-afe2-0a1633c1d9fe"
      },
      "execution_count": 1,
      "outputs": [
        {
          "output_type": "stream",
          "name": "stdout",
          "text": [
            "0\n",
            "1\n",
            "2\n",
            "3\n",
            "4\n"
          ]
        }
      ]
    },
    {
      "cell_type": "markdown",
      "source": [
        "### enumerate()\n",
        "\n",
        "Iterates over an iterable (like a list or string) and returns both the index and the corresponding value at each step.\n",
        "\n",
        "Useful when you need both the index and the value during iteration.\n",
        "\n",
        "Returns an enumerate object, which can be easily converted to a list of tuples."
      ],
      "metadata": {
        "id": "AhpoMXKvXlds"
      }
    },
    {
      "cell_type": "code",
      "source": [
        "# enumerate list items\n",
        "cars = ['Audi','BMW','Tesla','Ford','Toyota']\n",
        "for i, car in enumerate(cars):\n",
        "    print(i,car) #"
      ],
      "metadata": {
        "colab": {
          "base_uri": "https://localhost:8080/"
        },
        "id": "T_7CcpDBXtDI",
        "outputId": "29db8ebd-1278-49ba-ffb8-e028a076447b"
      },
      "execution_count": 2,
      "outputs": [
        {
          "output_type": "stream",
          "name": "stdout",
          "text": [
            "0 Audi\n",
            "1 BMW\n",
            "2 Tesla\n",
            "3 Ford\n",
            "4 Toyota\n"
          ]
        }
      ]
    },
    {
      "cell_type": "code",
      "source": [
        "# enumerate a string\n",
        "string = 'love cars'\n",
        "for i, l in enumerate(string):\n",
        "    print(i,l)"
      ],
      "metadata": {
        "colab": {
          "base_uri": "https://localhost:8080/"
        },
        "id": "oMy0jHUuX9gV",
        "outputId": "6eec0d0c-4273-404d-9f94-c201bec2ae41"
      },
      "execution_count": 4,
      "outputs": [
        {
          "output_type": "stream",
          "name": "stdout",
          "text": [
            "0 l\n",
            "1 o\n",
            "2 v\n",
            "3 e\n",
            "4  \n",
            "5 c\n",
            "6 a\n",
            "7 r\n",
            "8 s\n"
          ]
        }
      ]
    },
    {
      "cell_type": "markdown",
      "source": [
        "### zip()\n",
        "\n",
        "The zip() function takes iterables (can be zero or more), aggregates them in a tuple, and returns it."
      ],
      "metadata": {
        "id": "mYw4KEeFYY4t"
      }
    },
    {
      "cell_type": "code",
      "source": [
        "languages = ['Java', 'Python', 'JavaScript']\n",
        "versions = [14, 3, 6]\n",
        "\n",
        "result = zip(languages, versions)\n",
        "print(list(result))\n",
        "\n",
        "# Output: [('Java', 14), ('Python', 3), ('JavaScript', 6)] ## Which is list of tuples"
      ],
      "metadata": {
        "colab": {
          "base_uri": "https://localhost:8080/"
        },
        "id": "V6oUhvVpYeX1",
        "outputId": "f122edf7-8307-442b-adbd-71cb9d72d42c"
      },
      "execution_count": 5,
      "outputs": [
        {
          "output_type": "stream",
          "name": "stdout",
          "text": [
            "[('Java', 14), ('Python', 3), ('JavaScript', 6)]\n"
          ]
        }
      ]
    },
    {
      "cell_type": "markdown",
      "source": [
        "### Combine all those function them in a code snippet"
      ],
      "metadata": {
        "id": "1jiUQVu9Y9wy"
      }
    },
    {
      "cell_type": "code",
      "source": [
        "# create a list of names\n",
        "names = ['Arjun', 'Shiva', 'Artha', 'Karna', 'Rajesh']\n",
        "\n",
        "# create a list of subjects\n",
        "subjects = ['Python', 'Go', 'C++', 'Javascript', 'SQL']\n",
        "\n",
        "# create a list of marks\n",
        "grade = [99, 78, 97, 92, 80]\n",
        "\n",
        "## Zip them together\n",
        "result = zip(names, subjects,grade)\n",
        "print(list(result))\n",
        "#[('Arjun', 'Python', 99), ('Shiva', 'Go', 78), ('Artha', 'C++', 97), ('Karna', 'Javascript', 92), ('Rajesh', 'SQL', 80)]\n",
        "\n",
        "# use enumerate() and zip() function\n",
        "# to iterate the lists\n",
        "for i, (names, subjects, grade) in enumerate(zip(names, subjects, grade)):\n",
        "    print(i, names, subjects, grade)"
      ],
      "metadata": {
        "colab": {
          "base_uri": "https://localhost:8080/"
        },
        "id": "NDp_DzK4ZBR4",
        "outputId": "9aff87c3-c9de-4659-a07c-9df107f3bf80"
      },
      "execution_count": 10,
      "outputs": [
        {
          "output_type": "stream",
          "name": "stdout",
          "text": [
            "[('Arjun', 'Python', 99), ('Shiva', 'Go', 78), ('Artha', 'C++', 97), ('Karna', 'Javascript', 92), ('Rajesh', 'SQL', 80)]\n",
            "0 Arjun Python 99\n",
            "1 Shiva Go 78\n",
            "2 Artha C++ 97\n",
            "3 Karna Javascript 92\n",
            "4 Rajesh SQL 80\n"
          ]
        }
      ]
    }
  ]
}